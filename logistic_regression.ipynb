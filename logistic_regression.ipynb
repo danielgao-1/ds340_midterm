{
  "nbformat": 4,
  "nbformat_minor": 0,
  "metadata": {
    "colab": {
      "provenance": []
    },
    "kernelspec": {
      "name": "python3",
      "display_name": "Python 3"
    },
    "language_info": {
      "name": "python"
    }
  },
  "cells": [
    {
      "cell_type": "markdown",
      "source": [],
      "metadata": {
        "id": "Tqziacnt6R7H"
      }
    },
    {
      "cell_type": "markdown",
      "source": [
        "#                       DS 340W Mid-Term Project\n",
        "## Aarnav Putta and Daniel Gao\n",
        "\n",
        "\n",
        "\n",
        "\n"
      ],
      "metadata": {
        "id": "iFxoL5Nb6Lcb"
      }
    },
    {
      "cell_type": "markdown",
      "source": [
        "\n",
        "*   Data Handling and Numerical Operations: pandas and numpy enable data manipulation and calculations.\n",
        "\n",
        "*   Machine Learning Models: sklearn provides logistic regression, Lasso, and Ridge models, with cross-validation capabilities.\n",
        "\n",
        "*   Data Splitting and Cross-Validation: Tools like train_test_split, StratifiedKFold, and GridSearchCV facilitate data partitioning and hyperparameter tuning.\n",
        "\n",
        "*   Model Evaluation: f1_score from sklearn.metrics allows evaluation of model performance.\n",
        "\n",
        "*   Feature Selection and Scaling: SelectFromModel and StandardScaler assist in feature selection and standardizing data for improved model accuracy.\n",
        "\n",
        "*  Data Visualization: seaborn and matplotlib help visualize feature relationships and model insights through charts and heatmaps.\n",
        "\n",
        "\n",
        "\n",
        "\n",
        "\n",
        "\n",
        "\n",
        "\n",
        "\n"
      ],
      "metadata": {
        "id": "JCTHjpcBAFsJ"
      }
    },
    {
      "cell_type": "code",
      "execution_count": 9,
      "metadata": {
        "id": "6dtdpVUunv0T"
      },
      "outputs": [],
      "source": [
        "import pandas as pd\n",
        "import numpy as np\n",
        "from sklearn.linear_model import LogisticRegression, LassoCV, RidgeCV\n",
        "from sklearn.model_selection import train_test_split, StratifiedKFold, GridSearchCV\n",
        "from sklearn.metrics import f1_score\n",
        "from sklearn.preprocessing import StandardScaler\n",
        "from sklearn.feature_selection import SelectFromModel\n",
        "import seaborn as sns\n",
        "import matplotlib.pyplot as plt\n",
        "\n"
      ]
    },
    {
      "cell_type": "markdown",
      "source": [
        "In this code, we preprocess soil data to create indices that help predict drought risk. We calculate the Soil Quality Index (SQI) by averaging multiple soil quality features, providing a summary measure of soil health. We then compute Slope Variance and Aspect Variance to capture variability in land slope and direction, which affect water retention and exposure. Land Ratio compares forest/grassland to cultivated land, indicating types of land cover with implications for drought. Lastly, we derive the Enhanced Drought Severity Index (EDSI), a normalized measure combining SQI, slope, and land type ratios to assess drought susceptibility effectively."
      ],
      "metadata": {
        "id": "9x9yoARyCSFB"
      }
    },
    {
      "cell_type": "code",
      "source": [
        "# Load the dataset\n",
        "soil_data = pd.read_csv('soil_data.csv')\n",
        "\n",
        "# 1. Calculate Soil Quality Index (SQI)\n",
        "soil_data['SQI'] = soil_data[['SQ1', 'SQ2', 'SQ3', 'SQ4', 'SQ5', 'SQ6', 'SQ7']].mean(axis=1)\n",
        "\n",
        "# 2. Calculate Slope and Aspect Variance\n",
        "slope_features = ['slope1', 'slope2', 'slope3', 'slope4', 'slope5', 'slope6', 'slope7', 'slope8']\n",
        "aspect_features = ['aspectN', 'aspectE', 'aspectS', 'aspectW']\n",
        "soil_data['Slope_Variance'] = soil_data[slope_features].var(axis=1)\n",
        "soil_data['Aspect_Variance'] = soil_data[aspect_features].var(axis=1)\n",
        "\n",
        "# 3. Calculate Land Type Ratios\n",
        "soil_data['Land_Ratio'] = (soil_data['FOR_LAND'] + soil_data['GRS_LAND']) / (soil_data['CULTRF_LAND'] + 1)\n",
        "\n",
        "# 4. Calculate Enhanced Drought Severity Index (EDSI)\n",
        "soil_data['EDSI'] = (soil_data['SQI'] / soil_data['SQI'].max()) - (soil_data['Slope_Variance'] / soil_data['Slope_Variance'].max()) + (soil_data['Land_Ratio'] / soil_data['Land_Ratio'].max())\n",
        "\n"
      ],
      "metadata": {
        "id": "0EcgcBA_5utY"
      },
      "execution_count": 10,
      "outputs": []
    },
    {
      "cell_type": "markdown",
      "source": [
        "\n",
        "\n",
        "*   Define Binary Target: Set a threshold for the Enhanced Drought\n",
        "\n",
        "*   Severity Index (EDSI) at the 70th percentile. Label data points above the threshold as \"High Drought Risk\" (1) and others as \"Low Drought Risk\" (0).\n",
        "\n",
        "*   Prepare Features and Target: Select relevant features (SQI, Slope Variance, Land Ratio, EDSI, elevation) as X, and Drought_Risk as the target variable y.\n",
        "\n",
        "*   Split Data: Divide data into train, validation, and test sets in a 60-20-20 ratio to ensure robust model evaluation.\n",
        "\n",
        "*   Standardize Features: Apply standard scaling to normalize X values in training, validation, and test sets, improving model performance.\n",
        "\n",
        "*   Feature Selection Decision: Based on correlations, select Lasso for sparsity or Ridge for multicollinearity.\n",
        "\n",
        "*   :Apply Feature Selection: Use LassoCV or RidgeCV to select the most important features based on cross-validation. Transform training, validation, and test sets accordingly to reduce data dimensionality and enhance model efficiency.\n",
        "\n",
        "\n",
        "\n",
        "\n",
        "\n",
        "\n",
        "\n",
        "\n",
        "\n",
        "\n",
        "\n",
        "\n",
        "\n"
      ],
      "metadata": {
        "id": "zCRHq5ewMKeD"
      }
    },
    {
      "cell_type": "code",
      "source": [
        "# Define a binary target based on EDSI threshold\n",
        "threshold = soil_data['EDSI'].quantile(0.7)\n",
        "soil_data['Drought_Risk'] = np.where(soil_data['EDSI'] >= threshold, 1, 0)\n",
        "\n",
        "# Prepare feature set (X) and target variable (y)\n",
        "X = soil_data[['SQI', 'Slope_Variance', 'Land_Ratio', 'EDSI', 'elevation']]\n",
        "y = soil_data['Drought_Risk']\n",
        "\n",
        "# Split data into train, validation, and test sets (60-20-20 split)\n",
        "X_train, X_temp, y_train, y_temp = train_test_split(X, y, test_size=0.4, random_state=42, stratify=y)\n",
        "X_val, X_test, y_val, y_test = train_test_split(X_temp, y_temp, test_size=0.5, random_state=42, stratify=y_temp)\n",
        "\n",
        "# Standardize the features\n",
        "scaler = StandardScaler()\n",
        "X_train_scaled = scaler.fit_transform(X_train)\n",
        "X_val_scaled = scaler.transform(X_val)\n",
        "X_test_scaled = scaler.transform(X_test)\n",
        "\n",
        "# Step 5: Analyze feature relations (correlation matrix)\n",
        "correlations = X_train.corr()\n",
        "plt.figure(figsize=(10, 8))\n",
        "sns.heatmap(correlations, annot=True, cmap='coolwarm')\n",
        "plt.title(\"Feature Correlation Matrix\")\n",
        "plt.show()\n",
        "\n",
        "# Step 6: Select Feature Selection Model - Lasso if sparsity, Ridge if multicollinearity\n",
        "# We apply Lasso if there is high sparsity, or Ridge if features are highly correlated\n",
        "if (correlations.abs() > 0.7).sum().sum() > len(X.columns):  # condition to check multicollinearity\n",
        "    print(\"Applying Ridge due to high feature correlation.\")\n",
        "    selector = SelectFromModel(RidgeCV(alphas=np.logspace(-6, 6, 13))).fit(X_train_scaled, y_train)\n",
        "else:\n",
        "    print(\"Applying Lasso due to low feature correlation and potential sparsity.\")\n",
        "    selector = SelectFromModel(LassoCV(alphas=np.logspace(-6, 6, 13), cv=5)).fit(X_train_scaled, y_train)\n",
        "\n",
        "# Transform the features based on selection\n",
        "X_train_selected = selector.transform(X_train_scaled)\n",
        "X_val_selected = selector.transform(X_val_scaled)\n",
        "X_test_selected = selector.transform(X_test_scaled)\n",
        "\n"
      ],
      "metadata": {
        "colab": {
          "base_uri": "https://localhost:8080/",
          "height": 676
        },
        "id": "uOFBKIhx52FG",
        "outputId": "5ae39d7b-5f43-4b33-a1d8-44537f346c8e"
      },
      "execution_count": 11,
      "outputs": [
        {
          "output_type": "display_data",
          "data": {
            "text/plain": [
              "<Figure size 1000x800 with 2 Axes>"
            ],
            "image/png": "[encoded data removed]"
          },
          "metadata": {}
        },
        {
          "output_type": "stream",
          "name": "stdout",
          "text": [
            "Applying Ridge due to high feature correlation.\n"
          ]
        }
      ]
    },
    {
      "cell_type": "markdown",
      "source": [
        "\n",
        "\n",
        "*   Define Parameter Grid: Set up a grid of parameters for ElasticNet Logistic Regression, focusing on regularization strength (C), l1_ratio, and saga solver for ElasticNet penalty.\n",
        "\n",
        "*   Initialize Grid Search with Cross-Validation: Create an instance of LogisticRegression with ElasticNet penalty and use GridSearchCV for hyperparameter tuning, evaluating F1 scores across 5-fold cross-validation.\n",
        "\n",
        "\n",
        "*   Fit Grid Search Model: Fit the model on the training data (X_train_selected, y_train) to find the optimal combination of parameters based on F1 scores.\n",
        "\n",
        "*   Display Hyperparameter Tuning Results: Loop through each parameter set tried in GridSearchCV, displaying the mean F1 scores for training and testing across folds, allowing for detailed model comparison.\n",
        "\n",
        "\n",
        "*   Best Parameters and Score: Output the best parameter combination and the highest cross-validated F1 score achieved during grid search.\n",
        "\n",
        "*   Evaluate on Validation and Test Sets: Use the best estimator to make predictions on the validation and test sets, then calculate and print F1 scores for both, assessing model performance on unseen data.\n",
        "\n",
        "\n",
        "\n",
        "\n",
        "\n"
      ],
      "metadata": {
        "id": "v6ttgJwvMiFU"
      }
    },
    {
      "cell_type": "code",
      "source": [
        "# Define parameter grid for ElasticNet Logistic Regression with regularization\n",
        "param_grid_elasticnet = {\n",
        "    'C': [0.001, 0.01, 0.05, 0.1],\n",
        "    'penalty': ['elasticnet'],\n",
        "    'solver': ['saga'],\n",
        "    'l1_ratio': [0.8, 0.9]\n",
        "}\n",
        "\n",
        "# ElasticNet Logistic Regression with cross-validation and GridSearchCV\n",
        "elasticnet_model = LogisticRegression(random_state=42, max_iter=300)\n",
        "grid_search_elasticnet = GridSearchCV(\n",
        "    estimator=elasticnet_model,\n",
        "    param_grid=param_grid_elasticnet,\n",
        "    cv=StratifiedKFold(n_splits=5),\n",
        "    scoring='f1',\n",
        "    n_jobs=-1,\n",
        "    verbose=2,\n",
        "    return_train_score=True\n",
        ")\n",
        "grid_search_elasticnet.fit(X_train_selected, y_train)\n",
        "\n",
        "# Display parameters tried and their F1 scores for each fold\n",
        "print(\"ElasticNet Logistic Regression - Hyperparameter Tuning Results:\")\n",
        "for i, params in enumerate(grid_search_elasticnet.cv_results_['params']):\n",
        "    mean_train_score = grid_search_elasticnet.cv_results_['mean_train_score'][i]\n",
        "    mean_test_score = grid_search_elasticnet.cv_results_['mean_test_score'][i]\n",
        "    print(f\"Parameters: {params} | Mean Train F1 Score: {mean_train_score:.4f} | Mean Test F1 Score: {mean_test_score:.4f}\")\n",
        "\n",
        "# Best parameters and score\n",
        "print(\"\\nBest Parameters from Grid Search:\", grid_search_elasticnet.best_params_)\n",
        "print(\" - Best Cross-Validation F1 Score:\", grid_search_elasticnet.best_score_)\n",
        "\n",
        "# Evaluate on validation and test sets\n",
        "y_val_pred_elasticnet = grid_search_elasticnet.best_estimator_.predict(X_val_selected)\n",
        "y_test_pred_elasticnet = grid_search_elasticnet.best_estimator_.predict(X_test_selected)\n",
        "\n",
        "val_f1_elasticnet = f1_score(y_val, y_val_pred_elasticnet)\n",
        "test_f1_elasticnet = f1_score(y_test, y_test_pred_elasticnet)\n",
        "\n",
        "print(\"\\nValidation F1 Score for ElasticNet Logistic Regression:\", val_f1_elasticnet)\n",
        "print(\"Test F1 Score for ElasticNet Logistic Regression:\", test_f1_elasticnet)\n"
      ],
      "metadata": {
        "colab": {
          "base_uri": "https://localhost:8080/"
        },
        "id": "OcI9p-gl6EqN",
        "outputId": "0996225a-e758-46e9-be29-52237db9b8a7"
      },
      "execution_count": 12,
      "outputs": [
        {
          "output_type": "stream",
          "name": "stdout",
          "text": [
            "Fitting 5 folds for each of 8 candidates, totalling 40 fits\n",
            "ElasticNet Logistic Regression - Hyperparameter Tuning Results:\n",
            "Parameters: {'C': 0.001, 'l1_ratio': 0.8, 'penalty': 'elasticnet', 'solver': 'saga'} | Mean Train F1 Score: 0.0000 | Mean Test F1 Score: 0.0000\n",
            "Parameters: {'C': 0.001, 'l1_ratio': 0.9, 'penalty': 'elasticnet', 'solver': 'saga'} | Mean Train F1 Score: 0.0000 | Mean Test F1 Score: 0.0000\n",
            "Parameters: {'C': 0.01, 'l1_ratio': 0.8, 'penalty': 'elasticnet', 'solver': 'saga'} | Mean Train F1 Score: 0.9170 | Mean Test F1 Score: 0.9177\n",
            "Parameters: {'C': 0.01, 'l1_ratio': 0.9, 'penalty': 'elasticnet', 'solver': 'saga'} | Mean Train F1 Score: 0.9182 | Mean Test F1 Score: 0.9187\n",
            "Parameters: {'C': 0.05, 'l1_ratio': 0.8, 'penalty': 'elasticnet', 'solver': 'saga'} | Mean Train F1 Score: 0.9607 | Mean Test F1 Score: 0.9620\n",
            "Parameters: {'C': 0.05, 'l1_ratio': 0.9, 'penalty': 'elasticnet', 'solver': 'saga'} | Mean Train F1 Score: 0.9644 | Mean Test F1 Score: 0.9620\n",
            "Parameters: {'C': 0.1, 'l1_ratio': 0.8, 'penalty': 'elasticnet', 'solver': 'saga'} | Mean Train F1 Score: 0.9718 | Mean Test F1 Score: 0.9707\n",
            "Parameters: {'C': 0.1, 'l1_ratio': 0.9, 'penalty': 'elasticnet', 'solver': 'saga'} | Mean Train F1 Score: 0.9762 | Mean Test F1 Score: 0.9763\n",
            "\n",
            "Best Parameters from Grid Search: {'C': 0.1, 'l1_ratio': 0.9, 'penalty': 'elasticnet', 'solver': 'saga'}\n",
            " - Best Cross-Validation F1 Score: 0.9762995318994886\n",
            "\n",
            "Validation F1 Score for ElasticNet Logistic Regression: 0.9698630136986301\n",
            "Test F1 Score for ElasticNet Logistic Regression: 0.9812332439678284\n"
          ]
        }
      ]
    },
    {
      "cell_type": "markdown",
      "source": [
        "\n",
        "*   Effective Use of EDSI: EDSI (Enhanced Drought Severity Index) proved effective in predicting drought risk, providing a useful metric for drought analysis.\n",
        "\n",
        "*   High Model Performance: Achieved strong F1 scores on validation and test sets, indicating robust predictions with minimal overfitting.\n",
        "\n",
        "*   Use of Lasso and Ridge Regularization: ElasticNet (combining Lasso and Ridge) helped manage multicollinearity and sparsity in features, leading to a streamlined and interpretable model.\n",
        "\n",
        "*   Cost Efficiency: By focusing on fewer important features, Lasso and Ridge regularization can reduce data collection costs.\n",
        "\n",
        "*   Hyperparameter Tuning Value: Grid search optimization underscored the importance of fine-tuning for balanced performance.\n",
        "\n",
        "*   Recommendations for Research: Incorporating EDSI, tuned regularization techniques, and diverse datasets could enhance the accuracy and generalizability of future drought prediction models.\n",
        "\n",
        "\n",
        "\n",
        "\n",
        "\n",
        "\n",
        "\n",
        "\n",
        "\n",
        "\n",
        "\n"
      ],
      "metadata": {
        "id": "eCG0WaoeMnqP"
      }
    }
  ]
}